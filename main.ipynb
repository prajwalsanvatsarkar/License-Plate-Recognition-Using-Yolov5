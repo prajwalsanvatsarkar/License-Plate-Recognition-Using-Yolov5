{
 "cells": [
  {
   "cell_type": "code",
   "execution_count": null,
   "id": "b703c809-b56c-468a-a745-d11d102e73e9",
   "metadata": {},
   "outputs": [],
   "source": []
  }
 ],
 "metadata": {
  "kernelspec": {
   "display_name": "Python (anpr_env)",
   "language": "python",
   "name": "anpr_env"
  },
  "language_info": {
   "codemirror_mode": {
    "name": "ipython",
    "version": 3
   },
   "file_extension": ".py",
   "mimetype": "text/x-python",
   "name": "python",
   "nbconvert_exporter": "python",
   "pygments_lexer": "ipython3",
   "version": "3.12.3"
  }
 },
 "nbformat": 4,
 "nbformat_minor": 5
}
